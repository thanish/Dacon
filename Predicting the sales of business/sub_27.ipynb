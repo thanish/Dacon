{
 "cells": [
  {
   "cell_type": "markdown",
   "metadata": {},
   "source": [
    "# In this notebook, I have used only the summarized test data set for the prediction\n",
    "# The start of the notebook is from test dataset \n",
    "# In this notebook we predict 100 days from now"
   ]
  },
  {
   "cell_type": "code",
   "execution_count": 1,
   "metadata": {},
   "outputs": [
    {
     "name": "stderr",
     "output_type": "stream",
     "text": [
      "Using TensorFlow backend.\n"
     ]
    }
   ],
   "source": [
    "import pandas as pd\n",
    "import numpy as np\n",
    "import os \n",
    "import pickle\n",
    "import matplotlib.pyplot as plt\n",
    "import seaborn as sns\n",
    "from datetime import datetime, timedelta\n",
    "from sklearn.preprocessing import MinMaxScaler\n",
    "import sklearn.metrics\n",
    "\n",
    "from keras.models import Sequential\n",
    "from keras.layers import Dense, LSTM, Dropout\n",
    "from keras.callbacks import EarlyStopping, ModelCheckpoint\n",
    "\n",
    "os.chdir('C:/Users/BTHANISH/Documents/Thanish/Competition/Dacon/Predicting the sales of business')\n"
   ]
  },
  {
   "cell_type": "markdown",
   "metadata": {},
   "source": [
    "# Reading from the pickle file "
   ]
  },
  {
   "cell_type": "code",
   "execution_count": 2,
   "metadata": {},
   "outputs": [
    {
     "name": "stdout",
     "output_type": "stream",
     "text": [
      "The min time period of train 2016-08-01 00:00:00 \n",
      "The max time period of train 2018-03-31 00:00:00\n"
     ]
    }
   ],
   "source": [
    "# Reading from the pickle file \n",
    "train_prod_DF = pd.read_pickle('test_prod_DF.pickle')\n",
    "\n",
    "# print(train_prod_DF.dtypes)\n",
    "# print(train_prod_DF.head())\n",
    "# print(train_prod_DF.tail())\n",
    "\n",
    "print(\"The min time period of train\", train_prod_DF.date.min(),\n",
    "      \"\\nThe max time period of train\", train_prod_DF.date.max())\n",
    "\n"
   ]
  },
  {
   "cell_type": "markdown",
   "metadata": {},
   "source": [
    "# Forming the extra days not present in the original dataset"
   ]
  },
  {
   "cell_type": "code",
   "execution_count": 3,
   "metadata": {},
   "outputs": [
    {
     "name": "stdout",
     "output_type": "stream",
     "text": [
      "start_time : 2016-08-01 00:00:00\n",
      "end_time : 2018-07-09 00:00:00\n",
      "The shape of the finally formed Dataframe is (3393800, 3)\n",
      "The min of the date is is 2016-08-01 00:00:00\n",
      "The max of the date is is 2018-07-09 00:00:00\n"
     ]
    }
   ],
   "source": [
    "start_date = train_prod_DF.date.min()\n",
    "end_date = train_prod_DF.date.max() + timedelta(days = 100)\n",
    "print('start_time :', start_date)\n",
    "print('end_time :', end_date)\n",
    "\n",
    "date = pd.date_range(start = start_date, end= end_date, freq='H')\n",
    "temp = pd.DataFrame({'date' : date})\n",
    "\n",
    "temp['days_of_week'] = temp.date.dt.dayofweek\n",
    "temp.head()\n",
    "\n",
    "final_train_prod = pd.DataFrame()\n",
    "for i in range(200):\n",
    "    #print(i)\n",
    "    temp['store_id'] = i\n",
    "    final_train_prod = final_train_prod.append(temp)\n",
    "print(\"The shape of the finally formed Dataframe is\", final_train_prod.shape)\n",
    "print(\"The min of the date is is\", final_train_prod.date.min())\n",
    "print(\"The max of the date is is\", final_train_prod.date.max())\n"
   ]
  },
  {
   "cell_type": "markdown",
   "metadata": {},
   "source": [
    "# From both the datasets extract the hour"
   ]
  },
  {
   "cell_type": "code",
   "execution_count": 4,
   "metadata": {},
   "outputs": [
    {
     "name": "stdout",
     "output_type": "stream",
     "text": [
      "Original Dataframe\n",
      "   store_id       date      time     card_id  amount  installments  \\\n",
      "0         0 2016-08-01  00:28:15  bf33518373     125           NaN   \n",
      "1         0 2016-08-01  01:09:58  7a19a3a92f      90           NaN   \n",
      "2         0 2016-08-01  01:47:24  6f9fd7e241     150           NaN   \n",
      "3         0 2016-08-01  17:54:43  8bcf1d61b2     362           NaN   \n",
      "4         0 2016-08-01  18:48:53  6a722ce674     125           NaN   \n",
      "\n",
      "   days_of_week  holyday  hour  \n",
      "0             0        0     0  \n",
      "1             0        0     1  \n",
      "2             0        0     1  \n",
      "3             0        0    17  \n",
      "4             0        0    18  \n",
      "Newly formed Dataframe\n",
      "        date  days_of_week  store_id  hour\n",
      "0 2016-08-01             0         0     0\n",
      "1 2016-08-01             0         0     1\n",
      "2 2016-08-01             0         0     2\n",
      "3 2016-08-01             0         0     3\n",
      "4 2016-08-01             0         0     4\n"
     ]
    }
   ],
   "source": [
    "train_prod_DF['hour'] = train_prod_DF['time'].dt.hour\n",
    "final_train_prod['hour'] = final_train_prod['date'].dt.hour\n",
    "\n",
    "train_prod_DF['time'] = train_prod_DF.time.dt.time\n",
    "final_train_prod['date'] = final_train_prod.date.dt.date\n",
    "\n",
    "train_prod_DF['date'] = pd.to_datetime(train_prod_DF['date'])\n",
    "final_train_prod['date'] = pd.to_datetime(final_train_prod['date'])\n",
    "\n",
    "print(\"Original Dataframe\")\n",
    "print(train_prod_DF.head())\n",
    "#print(train_prod_DF.tail())\n",
    "print(\"Newly formed Dataframe\")\n",
    "print(final_train_prod.head())\n",
    "\n"
   ]
  },
  {
   "cell_type": "markdown",
   "metadata": {},
   "source": [
    "# Merge the original dataset to the newly formed dataset"
   ]
  },
  {
   "cell_type": "code",
   "execution_count": 5,
   "metadata": {
    "collapsed": true
   },
   "outputs": [],
   "source": [
    "train_prod_DF_new = pd.merge(final_train_prod, train_prod_DF,\n",
    "                            how = 'left', on = ['store_id', 'date', 'days_of_week', 'hour'])"
   ]
  },
  {
   "cell_type": "code",
   "execution_count": 6,
   "metadata": {},
   "outputs": [
    {
     "name": "stdout",
     "output_type": "stream",
     "text": [
      "Let's have a look at the merged dataset\n",
      "        date  days_of_week  store_id  hour      time     card_id  amount  \\\n",
      "0 2016-08-01             0         0     0  00:28:15  bf33518373   125.0   \n",
      "1 2016-08-01             0         0     1  01:09:58  7a19a3a92f    90.0   \n",
      "2 2016-08-01             0         0     1  01:47:24  6f9fd7e241   150.0   \n",
      "3 2016-08-01             0         0     2       NaN         NaN     NaN   \n",
      "4 2016-08-01             0         0     3       NaN         NaN     NaN   \n",
      "\n",
      "   installments  holyday  \n",
      "0           NaN      0.0  \n",
      "1           NaN      0.0  \n",
      "2           NaN      0.0  \n",
      "3           NaN      NaN  \n",
      "4           NaN      NaN  \n"
     ]
    }
   ],
   "source": [
    "print(\"Let's have a look at the merged dataset\")\n",
    "print(train_prod_DF_new.head())\n",
    "#print(train_prod_DF_new.tail())"
   ]
  },
  {
   "cell_type": "code",
   "execution_count": 7,
   "metadata": {},
   "outputs": [
    {
     "data": {
      "text/html": [
       "<div>\n",
       "<style>\n",
       "    .dataframe thead tr:only-child th {\n",
       "        text-align: right;\n",
       "    }\n",
       "\n",
       "    .dataframe thead th {\n",
       "        text-align: left;\n",
       "    }\n",
       "\n",
       "    .dataframe tbody tr th {\n",
       "        vertical-align: top;\n",
       "    }\n",
       "</style>\n",
       "<table border=\"1\" class=\"dataframe\">\n",
       "  <thead>\n",
       "    <tr style=\"text-align: right;\">\n",
       "      <th></th>\n",
       "      <th>date</th>\n",
       "      <th>holyday</th>\n",
       "    </tr>\n",
       "  </thead>\n",
       "  <tbody>\n",
       "    <tr>\n",
       "      <th>398</th>\n",
       "      <td>2016-08-15</td>\n",
       "      <td>1.0</td>\n",
       "    </tr>\n",
       "    <tr>\n",
       "      <th>1174</th>\n",
       "      <td>2016-09-14</td>\n",
       "      <td>1.0</td>\n",
       "    </tr>\n",
       "    <tr>\n",
       "      <th>1200</th>\n",
       "      <td>2016-09-15</td>\n",
       "      <td>1.0</td>\n",
       "    </tr>\n",
       "    <tr>\n",
       "      <th>1246</th>\n",
       "      <td>2016-09-16</td>\n",
       "      <td>1.0</td>\n",
       "    </tr>\n",
       "    <tr>\n",
       "      <th>1672</th>\n",
       "      <td>2016-10-03</td>\n",
       "      <td>1.0</td>\n",
       "    </tr>\n",
       "  </tbody>\n",
       "</table>\n",
       "</div>"
      ],
      "text/plain": [
       "           date  holyday\n",
       "398  2016-08-15      1.0\n",
       "1174 2016-09-14      1.0\n",
       "1200 2016-09-15      1.0\n",
       "1246 2016-09-16      1.0\n",
       "1672 2016-10-03      1.0"
      ]
     },
     "execution_count": 7,
     "metadata": {},
     "output_type": "execute_result"
    }
   ],
   "source": [
    "#Just checking the list of holidays in the given dataset\n",
    "train_prod_DF_new.loc[train_prod_DF_new['holyday'] == 1, ['date','holyday']].drop_duplicates().head()"
   ]
  },
  {
   "cell_type": "markdown",
   "metadata": {},
   "source": [
    "# Reading the holidays and then merge with the original one"
   ]
  },
  {
   "cell_type": "code",
   "execution_count": 8,
   "metadata": {},
   "outputs": [
    {
     "name": "stdout",
     "output_type": "stream",
     "text": [
      "        date  days_of_week  store_id  hour      time     card_id  amount  \\\n",
      "0 2016-08-01             0         0     0  00:28:15  bf33518373   125.0   \n",
      "1 2016-08-01             0         0     1  01:09:58  7a19a3a92f    90.0   \n",
      "2 2016-08-01             0         0     1  01:47:24  6f9fd7e241   150.0   \n",
      "3 2016-08-01             0         0     2       NaN         NaN     NaN   \n",
      "4 2016-08-01             0         0     3       NaN         NaN     NaN   \n",
      "\n",
      "   installments  holyday_x  holyday_y  \n",
      "0           NaN        0.0        NaN  \n",
      "1           NaN        0.0        NaN  \n",
      "2           NaN        0.0        NaN  \n",
      "3           NaN        NaN        NaN  \n",
      "4           NaN        NaN        NaN  \n"
     ]
    }
   ],
   "source": [
    "holidays = pd.read_csv('South_Korea_holidays.csv')\n",
    "\n",
    "holidays['date'] = pd.to_datetime(holidays['date'], format = \"%m/%d/%Y\")\n",
    "holidays['holyday'] = 1.0\n",
    "\n",
    "#Merging the holiday to the dataframe\n",
    "train_prod_DF_new = pd.merge(train_prod_DF_new, holidays.loc[:,['date', 'holyday']],\n",
    "                            on = ['date'], how = 'left')\n",
    "print(train_prod_DF_new.head())\n",
    "#print(train_prod_DF_new.tail())\n"
   ]
  },
  {
   "cell_type": "code",
   "execution_count": 9,
   "metadata": {},
   "outputs": [
    {
     "name": "stdout",
     "output_type": "stream",
     "text": [
      "        date  days_of_week  store_id  hour  amount  installments  holyday\n",
      "0 2016-08-01             0         0     0   125.0           NaN      NaN\n",
      "1 2016-08-01             0         0     1    90.0           NaN      NaN\n",
      "2 2016-08-01             0         0     1   150.0           NaN      NaN\n",
      "3 2016-08-01             0         0     2     NaN           NaN      NaN\n",
      "4 2016-08-01             0         0     3     NaN           NaN      NaN\n"
     ]
    }
   ],
   "source": [
    "# Drop off the columns that are not needed \n",
    "train_prod_DF_new.drop(['time','card_id', 'holyday_x'], axis = 1, inplace=True)\n",
    "train_prod_DF_new.rename(columns = {'holyday_y':'holyday'}, inplace=True)\n",
    "\n",
    "print(train_prod_DF_new.head())\n",
    "#print(train_prod_DF_new.tail())"
   ]
  },
  {
   "cell_type": "markdown",
   "metadata": {},
   "source": [
    "# Fill the empty cells with 0"
   ]
  },
  {
   "cell_type": "code",
   "execution_count": 10,
   "metadata": {},
   "outputs": [
    {
     "name": "stdout",
     "output_type": "stream",
     "text": [
      "        date  days_of_week  store_id  hour  amount  installments  holyday\n",
      "0 2016-08-01             0         0     0   125.0           NaN      NaN\n",
      "1 2016-08-01             0         0     1    90.0           NaN      NaN\n",
      "2 2016-08-01             0         0     1   150.0           NaN      NaN\n",
      "3 2016-08-01             0         0     2     NaN           NaN      NaN\n",
      "4 2016-08-01             0         0     3     NaN           NaN      NaN\n",
      "        date  days_of_week  store_id  hour  amount  installments  holyday\n",
      "0 2016-08-01             0         0     0   125.0           0.0      0.0\n",
      "1 2016-08-01             0         0     1    90.0           0.0      0.0\n",
      "2 2016-08-01             0         0     1   150.0           0.0      0.0\n",
      "3 2016-08-01             0         0     2     0.0           0.0      0.0\n",
      "4 2016-08-01             0         0     3     0.0           0.0      0.0\n"
     ]
    },
    {
     "data": {
      "text/html": [
       "<div>\n",
       "<style>\n",
       "    .dataframe thead tr:only-child th {\n",
       "        text-align: right;\n",
       "    }\n",
       "\n",
       "    .dataframe thead th {\n",
       "        text-align: left;\n",
       "    }\n",
       "\n",
       "    .dataframe tbody tr th {\n",
       "        vertical-align: top;\n",
       "    }\n",
       "</style>\n",
       "<table border=\"1\" class=\"dataframe\">\n",
       "  <thead>\n",
       "    <tr style=\"text-align: right;\">\n",
       "      <th></th>\n",
       "      <th>date</th>\n",
       "      <th>days_of_week</th>\n",
       "      <th>store_id</th>\n",
       "      <th>hour</th>\n",
       "      <th>amount</th>\n",
       "      <th>installments</th>\n",
       "      <th>holyday</th>\n",
       "    </tr>\n",
       "  </thead>\n",
       "  <tbody>\n",
       "    <tr>\n",
       "      <th>3607649</th>\n",
       "      <td>2018-07-08</td>\n",
       "      <td>6</td>\n",
       "      <td>199</td>\n",
       "      <td>20</td>\n",
       "      <td>0.0</td>\n",
       "      <td>0.0</td>\n",
       "      <td>0.0</td>\n",
       "    </tr>\n",
       "    <tr>\n",
       "      <th>3607650</th>\n",
       "      <td>2018-07-08</td>\n",
       "      <td>6</td>\n",
       "      <td>199</td>\n",
       "      <td>21</td>\n",
       "      <td>0.0</td>\n",
       "      <td>0.0</td>\n",
       "      <td>0.0</td>\n",
       "    </tr>\n",
       "    <tr>\n",
       "      <th>3607651</th>\n",
       "      <td>2018-07-08</td>\n",
       "      <td>6</td>\n",
       "      <td>199</td>\n",
       "      <td>22</td>\n",
       "      <td>0.0</td>\n",
       "      <td>0.0</td>\n",
       "      <td>0.0</td>\n",
       "    </tr>\n",
       "    <tr>\n",
       "      <th>3607652</th>\n",
       "      <td>2018-07-08</td>\n",
       "      <td>6</td>\n",
       "      <td>199</td>\n",
       "      <td>23</td>\n",
       "      <td>0.0</td>\n",
       "      <td>0.0</td>\n",
       "      <td>0.0</td>\n",
       "    </tr>\n",
       "    <tr>\n",
       "      <th>3607653</th>\n",
       "      <td>2018-07-09</td>\n",
       "      <td>0</td>\n",
       "      <td>199</td>\n",
       "      <td>0</td>\n",
       "      <td>0.0</td>\n",
       "      <td>0.0</td>\n",
       "      <td>0.0</td>\n",
       "    </tr>\n",
       "  </tbody>\n",
       "</table>\n",
       "</div>"
      ],
      "text/plain": [
       "              date  days_of_week  store_id  hour  amount  installments  \\\n",
       "3607649 2018-07-08             6       199    20     0.0           0.0   \n",
       "3607650 2018-07-08             6       199    21     0.0           0.0   \n",
       "3607651 2018-07-08             6       199    22     0.0           0.0   \n",
       "3607652 2018-07-08             6       199    23     0.0           0.0   \n",
       "3607653 2018-07-09             0       199     0     0.0           0.0   \n",
       "\n",
       "         holyday  \n",
       "3607649      0.0  \n",
       "3607650      0.0  \n",
       "3607651      0.0  \n",
       "3607652      0.0  \n",
       "3607653      0.0  "
      ]
     },
     "execution_count": 10,
     "metadata": {},
     "output_type": "execute_result"
    }
   ],
   "source": [
    "print(train_prod_DF_new.head())\n",
    "train_prod_DF_new.fillna(0, inplace = True)\n",
    "print(train_prod_DF_new.head())\n",
    "#train_prod_DF_new.loc[train_prod_DF_new['date'] > datetime(2018,3,31), ['amount']] = None\n",
    "train_prod_DF_new.tail()"
   ]
  },
  {
   "cell_type": "markdown",
   "metadata": {},
   "source": [
    "# Summarize the data to per day/hour level"
   ]
  },
  {
   "cell_type": "code",
   "execution_count": 13,
   "metadata": {},
   "outputs": [
    {
     "name": "stdout",
     "output_type": "stream",
     "text": [
      "   store_id       date  days_of_week  holyday  amount\n",
      "0         0 2016-08-01             0      0.0  2106.0\n",
      "1         0 2016-08-02             1      0.0  1528.0\n",
      "2         0 2016-08-03             2      0.0   560.0\n",
      "3         0 2016-08-04             3      0.0  1683.0\n",
      "4         0 2016-08-05             4      0.0  1686.0\n",
      "        store_id       date  days_of_week  holyday  amount\n",
      "141595       199 2018-07-05             3      0.0     0.0\n",
      "141596       199 2018-07-06             4      0.0     0.0\n",
      "141597       199 2018-07-07             5      0.0     0.0\n",
      "141598       199 2018-07-08             6      0.0     0.0\n",
      "141599       199 2018-07-09             0      0.0     0.0\n",
      "            store_id   days_of_week        holyday         amount\n",
      "count  141600.000000  141600.000000  141600.000000  141600.000000\n",
      "mean       99.500000       2.995763       0.049435     511.180572\n",
      "std        57.734509       2.001767       0.216775    1502.521220\n",
      "min         0.000000       0.000000       0.000000  -11150.000000\n",
      "25%        49.750000       1.000000       0.000000       0.000000\n",
      "50%        99.500000       3.000000       0.000000       0.000000\n",
      "75%       149.250000       5.000000       0.000000     488.000000\n",
      "max       199.000000       6.000000       1.000000  100230.000000\n",
      "The shape of final dataset is (141600, 5)\n"
     ]
    }
   ],
   "source": [
    "train_prod_DF = train_prod_DF_new.copy()\n",
    "summarized_data = train_prod_DF.groupby(['store_id', 'date', 'days_of_week', 'holyday'\n",
    "                                              #, 'hour' \n",
    "                                             ]).agg({'amount':'sum'}).reset_index()\n",
    "\n",
    "print(summarized_data.head())\n",
    "print(summarized_data.tail())\n",
    "print(summarized_data.describe())\n",
    "print(\"The shape of final dataset is\", summarized_data.shape)\n",
    "\n",
    "#print(summarized_data.loc[summarized_data['date'] <= datetime(2018,3,31),].describe())\n",
    "#print(summarized_data.loc[summarized_data['date'] > datetime(2018,3,31),].describe())"
   ]
  },
  {
   "cell_type": "markdown",
   "metadata": {},
   "source": [
    "# Function to get the train prod, test prod and validation set"
   ]
  },
  {
   "cell_type": "code",
   "execution_count": 14,
   "metadata": {
    "collapsed": true
   },
   "outputs": [],
   "source": [
    "steps = 60\n",
    "forecast_days  = 100\n",
    "def get_Train_Test(DF, train_end, step ):\n",
    "        temp_Train = DF.loc[DF['date'] <= train_end , : ].reset_index(drop = True)\n",
    "        temp_Test = DF.loc[DF['date'] > (train_end - pd.DateOffset(days=step) - pd.DateOffset(days=forecast_days)), : ].reset_index(drop = True)\n",
    "        return temp_Train, temp_Test"
   ]
  },
  {
   "cell_type": "code",
   "execution_count": 15,
   "metadata": {},
   "outputs": [
    {
     "name": "stdout",
     "output_type": "stream",
     "text": [
      "The unique stores in train dataset 200\n",
      "The unique stores in test dataset 200\n",
      "\n",
      "The start date of train prod is 2016-08-01 00:00:00\n",
      "The end   date of train prod is 2018-03-31 00:00:00\n",
      "The start date of test prod is 2017-10-23 00:00:00\n",
      "The end   date of test prod is 2018-07-09 00:00:00\n",
      "\n",
      "   store_id       date  days_of_week  holyday  amount\n",
      "0         0 2017-10-23             0      0.0   617.0\n",
      "1         0 2017-10-24             1      0.0   509.0\n",
      "2         0 2017-10-25             2      0.0   692.0\n",
      "3         0 2017-10-26             3      0.0  1756.0\n",
      "4         0 2017-10-27             4      0.0   925.0\n"
     ]
    }
   ],
   "source": [
    "summarized_train_prod, summarized_test_prod = get_Train_Test(summarized_data, \n",
    "                                                             train_end = datetime(2018,3,31), \n",
    "                                                             step = steps)\n",
    "#Sorting : Just for sanity check\n",
    "summarized_train_prod = summarized_train_prod.sort_values(['store_id', 'date'\n",
    "                                                           #, 'hour' \n",
    "                                                          ])\n",
    "summarized_test_prod = summarized_test_prod.sort_values(['store_id', 'date'\n",
    "                                                           #, 'hour' \n",
    "                                                          ])\n",
    "\n",
    "print(\"The unique stores in train dataset\", summarized_train_prod.store_id.nunique())\n",
    "print(\"The unique stores in test dataset\",  summarized_test_prod.store_id.nunique())\n",
    "print(\"\")\n",
    "print(\"The start date of train prod is\",summarized_train_prod.date.min())\n",
    "print(\"The end   date of train prod is\",summarized_train_prod.date.max())\n",
    "print(\"The start date of test prod is\",summarized_test_prod.date.min())\n",
    "print(\"The end   date of test prod is\",summarized_test_prod.date.max())\n",
    "print(\"\")\n",
    "print(summarized_test_prod.head())\n"
   ]
  },
  {
   "cell_type": "markdown",
   "metadata": {},
   "source": [
    "# Min max normalizer"
   ]
  },
  {
   "cell_type": "code",
   "execution_count": 16,
   "metadata": {
    "scrolled": true
   },
   "outputs": [
    {
     "name": "stdout",
     "output_type": "stream",
     "text": [
      "Unscaled train prod\n",
      "   store_id       date  days_of_week  holyday  amount\n",
      "0         0 2016-08-01             0      0.0  2106.0\n",
      "1         0 2016-08-02             1      0.0  1528.0\n",
      "2         0 2016-08-03             2      0.0   560.0\n",
      "3         0 2016-08-04             3      0.0  1683.0\n",
      "4         0 2016-08-05             4      0.0  1686.0\n",
      "Unscaled  test prod\n",
      "   store_id       date  days_of_week  holyday  amount\n",
      "0         0 2017-10-23             0      0.0   617.0\n",
      "1         0 2017-10-24             1      0.0   509.0\n",
      "2         0 2017-10-25             2      0.0   692.0\n",
      "3         0 2017-10-26             3      0.0  1756.0\n",
      "4         0 2017-10-27             4      0.0   925.0\n",
      "Later\n",
      "Scaled train prod\n",
      "   store_id       date  days_of_week  holyday    amount\n",
      "0         0 2016-08-01      0.000000      0.0  0.119016\n",
      "1         0 2016-08-02      0.166667      0.0  0.113827\n",
      "2         0 2016-08-03      0.333333      0.0  0.105136\n",
      "3         0 2016-08-04      0.500000      0.0  0.115218\n",
      "4         0 2016-08-05      0.666667      0.0  0.115245\n",
      "Scaled test prod\n",
      "   store_id       date  days_of_week  holyday    amount\n",
      "0         0 2017-10-23      0.000000      0.0  0.105647\n",
      "1         0 2017-10-24      0.166667      0.0  0.104678\n",
      "2         0 2017-10-25      0.333333      0.0  0.106321\n",
      "3         0 2017-10-26      0.500000      0.0  0.115874\n",
      "4         0 2017-10-27      0.666667      0.0  0.108413\n"
     ]
    }
   ],
   "source": [
    "print(\"Unscaled train prod\")\n",
    "print(summarized_train_prod.head())\n",
    "print(\"Unscaled  test prod\")\n",
    "print(summarized_test_prod.head())\n",
    "\n",
    "# Scaling the independent column\n",
    "indep_cols_2_scale = summarized_train_prod.columns.difference(['store_id',\n",
    "                                                               'date', \n",
    "                                                               'amount'])\n",
    "\n",
    "indep_scaler = MinMaxScaler()\n",
    "indep_scaler.fit(summarized_train_prod.loc[:, indep_cols_2_scale])\n",
    "\n",
    "summarized_train_prod[indep_cols_2_scale] = indep_scaler.transform(summarized_train_prod.loc[:, indep_cols_2_scale])\n",
    "summarized_test_prod[indep_cols_2_scale] = indep_scaler.transform(summarized_test_prod.loc[:, indep_cols_2_scale])\n",
    "\n",
    "#Scaling the dependent column\n",
    "dep_scaler = MinMaxScaler()\n",
    "dep_scaler.fit(summarized_train_prod.loc[:,['amount']])\n",
    "\n",
    "summarized_train_prod['amount'] = dep_scaler.transform(summarized_train_prod.loc[:,['amount']])\n",
    "summarized_test_prod['amount'] = dep_scaler.transform(summarized_test_prod.loc[:,['amount']])\n",
    "\n",
    "print(\"Later\")\n",
    "print(\"Scaled train prod\")\n",
    "print(summarized_train_prod.head())\n",
    "print(\"Scaled test prod\")\n",
    "print(summarized_test_prod.head())\n"
   ]
  },
  {
   "cell_type": "code",
   "execution_count": 17,
   "metadata": {},
   "outputs": [
    {
     "data": {
      "text/html": [
       "<div>\n",
       "<style>\n",
       "    .dataframe thead tr:only-child th {\n",
       "        text-align: right;\n",
       "    }\n",
       "\n",
       "    .dataframe thead th {\n",
       "        text-align: left;\n",
       "    }\n",
       "\n",
       "    .dataframe tbody tr th {\n",
       "        vertical-align: top;\n",
       "    }\n",
       "</style>\n",
       "<table border=\"1\" class=\"dataframe\">\n",
       "  <thead>\n",
       "    <tr style=\"text-align: right;\">\n",
       "      <th></th>\n",
       "      <th>store_id</th>\n",
       "      <th>date</th>\n",
       "      <th>days_of_week</th>\n",
       "      <th>holyday</th>\n",
       "      <th>amount</th>\n",
       "    </tr>\n",
       "  </thead>\n",
       "  <tbody>\n",
       "    <tr>\n",
       "      <th>121595</th>\n",
       "      <td>199</td>\n",
       "      <td>2018-03-27</td>\n",
       "      <td>0.166667</td>\n",
       "      <td>0.0</td>\n",
       "      <td>0.102487</td>\n",
       "    </tr>\n",
       "    <tr>\n",
       "      <th>121596</th>\n",
       "      <td>199</td>\n",
       "      <td>2018-03-28</td>\n",
       "      <td>0.333333</td>\n",
       "      <td>0.0</td>\n",
       "      <td>0.118648</td>\n",
       "    </tr>\n",
       "    <tr>\n",
       "      <th>121597</th>\n",
       "      <td>199</td>\n",
       "      <td>2018-03-29</td>\n",
       "      <td>0.500000</td>\n",
       "      <td>0.0</td>\n",
       "      <td>0.101275</td>\n",
       "    </tr>\n",
       "    <tr>\n",
       "      <th>121598</th>\n",
       "      <td>199</td>\n",
       "      <td>2018-03-30</td>\n",
       "      <td>0.666667</td>\n",
       "      <td>0.0</td>\n",
       "      <td>0.103654</td>\n",
       "    </tr>\n",
       "    <tr>\n",
       "      <th>121599</th>\n",
       "      <td>199</td>\n",
       "      <td>2018-03-31</td>\n",
       "      <td>0.833333</td>\n",
       "      <td>0.0</td>\n",
       "      <td>0.104597</td>\n",
       "    </tr>\n",
       "  </tbody>\n",
       "</table>\n",
       "</div>"
      ],
      "text/plain": [
       "        store_id       date  days_of_week  holyday    amount\n",
       "121595       199 2018-03-27      0.166667      0.0  0.102487\n",
       "121596       199 2018-03-28      0.333333      0.0  0.118648\n",
       "121597       199 2018-03-29      0.500000      0.0  0.101275\n",
       "121598       199 2018-03-30      0.666667      0.0  0.103654\n",
       "121599       199 2018-03-31      0.833333      0.0  0.104597"
      ]
     },
     "execution_count": 17,
     "metadata": {},
     "output_type": "execute_result"
    }
   ],
   "source": [
    "summarized_train_prod.tail()"
   ]
  },
  {
   "cell_type": "markdown",
   "metadata": {},
   "source": [
    "# Get the local train and test"
   ]
  },
  {
   "cell_type": "code",
   "execution_count": 18,
   "metadata": {},
   "outputs": [
    {
     "name": "stdout",
     "output_type": "stream",
     "text": [
      "Shape of Train local (103600, 5)\n",
      "Shape of Test local (50000, 5)\n",
      "   store_id       date  days_of_week  holyday    amount\n",
      "0         0 2016-08-01      0.000000      0.0  0.119016\n",
      "1         0 2016-08-02      0.166667      0.0  0.113827\n",
      "2         0 2016-08-03      0.333333      0.0  0.105136\n",
      "3         0 2016-08-04      0.500000      0.0  0.115218\n",
      "4         0 2016-08-05      0.666667      0.0  0.115245\n",
      "        store_id       date  days_of_week  holyday    amount\n",
      "103595       199 2017-12-27      0.333333      0.0  0.101859\n",
      "103596       199 2017-12-28      0.500000      0.0  0.101006\n",
      "103597       199 2017-12-29      0.666667      0.0  0.104687\n",
      "103598       199 2017-12-30      0.833333      0.0  0.102038\n",
      "103599       199 2017-12-31      1.000000      0.0  0.100108\n",
      "   store_id       date  days_of_week  holyday    amount\n",
      "0         0 2017-07-25      0.166667      0.0  0.109248\n",
      "1         0 2017-07-26      0.333333      0.0  0.115676\n",
      "2         0 2017-07-27      0.500000      0.0  0.107829\n",
      "3         0 2017-07-28      0.666667      0.0  0.116529\n",
      "4         0 2017-07-29      0.833333      0.0  0.105136\n",
      "       store_id       date  days_of_week  holyday    amount\n",
      "49995       199 2018-03-27      0.166667      0.0  0.102487\n",
      "49996       199 2018-03-28      0.333333      0.0  0.118648\n",
      "49997       199 2018-03-29      0.500000      0.0  0.101275\n",
      "49998       199 2018-03-30      0.666667      0.0  0.103654\n",
      "49999       199 2018-03-31      0.833333      0.0  0.104597\n",
      "   store_id       date  days_of_week  holyday    amount\n",
      "0         0 2017-10-23      0.000000      0.0  0.105647\n",
      "1         0 2017-10-24      0.166667      0.0  0.104678\n",
      "2         0 2017-10-25      0.333333      0.0  0.106321\n",
      "3         0 2017-10-26      0.500000      0.0  0.115874\n",
      "4         0 2017-10-27      0.666667      0.0  0.108413\n",
      "       store_id       date  days_of_week  holyday    amount\n",
      "51995       199 2018-07-05      0.500000      0.0  0.100108\n",
      "51996       199 2018-07-06      0.666667      0.0  0.100108\n",
      "51997       199 2018-07-07      0.833333      0.0  0.100108\n",
      "51998       199 2018-07-08      1.000000      0.0  0.100108\n",
      "51999       199 2018-07-09      0.000000      0.0  0.100108\n"
     ]
    }
   ],
   "source": [
    "train_local, test_local = get_Train_Test(DF = summarized_train_prod, \n",
    "                                         train_end = datetime(2017,12,31),\n",
    "                                         step = steps)\n",
    "\n",
    "print(\"Shape of Train local\", train_local.shape)\n",
    "print(\"Shape of Test local\", test_local.shape)\n",
    "\n",
    "print(train_local.head())\n",
    "print(train_local.tail())\n",
    "print(test_local.head())\n",
    "print(test_local.tail())\n",
    "print(summarized_test_prod.head())\n",
    "print(summarized_test_prod.tail())"
   ]
  },
  {
   "cell_type": "markdown",
   "metadata": {},
   "source": [
    "# Function to Get the X and Y"
   ]
  },
  {
   "cell_type": "code",
   "execution_count": 19,
   "metadata": {
    "collapsed": true
   },
   "outputs": [],
   "source": [
    "def get_X_Y(dataset, step_size, slide_window = 1, days_to_forecast = 100):\n",
    "    uniq_store_id = np.unique(dataset.store_id)\n",
    "    X = []\n",
    "    label = []\n",
    "    date_period = []\n",
    "    stores = []\n",
    "    reject_stores = []\n",
    "    for store in uniq_store_id:\n",
    "        \n",
    "        temp = dataset.loc[dataset.store_id == store, ].reset_index(drop = True)\n",
    "        #print(\"Not Rejected\", \"The store_id\", store,\"length\", len(temp))\n",
    "        \n",
    "        cols_2_drop = ['store_id'\n",
    "                       #, 'days_of_week', 'holyday'\n",
    "                      ]\n",
    "        temp = temp.reset_index(drop = True).drop(cols_2_drop, axis = 1)\n",
    "        #print(temp.head(30))\n",
    "        #print(temp.tail(30))\n",
    "        for i in range(0, (len(temp) - step_size - days_to_forecast ), slide_window):\n",
    "            temp_v1 = temp.loc[i : (i + step_size - 1), :].drop(['date'], axis = 1)\n",
    "            temp_v1 = np.array(temp_v1)\n",
    "            X.append(temp_v1)\n",
    "            \n",
    "            #Saving the store and date of prediction\n",
    "            stores.append(store)\n",
    "            prediction_date = temp.loc[(i + step_size + days_to_forecast), 'date']\n",
    "            date_period.append(np.array(prediction_date))\n",
    "            \n",
    "            #temp_v1 = temp.loc[(i + step_size), ['amount']]\n",
    "            temp_v1 = temp.loc[(i + step_size + days_to_forecast), ['amount']]\n",
    "            label.append(np.array(temp_v1))\n",
    "            #print(prediction_date)\n",
    "            #print(temp_v1)\n",
    "            #print(\"indep\")\n",
    "            #print(X)\n",
    "            #print(\"label\")\n",
    "            #print(label)\n",
    "    X = np.array(X)\n",
    "    Y = np.array(label)\n",
    "    print(\"\\nThe rejected stores are\", reject_stores)\n",
    "    return X, Y, stores, date_period"
   ]
  },
  {
   "cell_type": "code",
   "execution_count": 20,
   "metadata": {},
   "outputs": [
    {
     "name": "stdout",
     "output_type": "stream",
     "text": [
      "Running the train local\n",
      "\n",
      "The rejected stores are []\n",
      "Running the test local\n",
      "\n",
      "The rejected stores are []\n",
      "Running the test_prod\n",
      "\n",
      "The rejected stores are []\n",
      "Completed forming the train_local, test_local, test_prod\n"
     ]
    }
   ],
   "source": [
    "forecast_days_override = 0\n",
    "print(\"Running the train local\")\n",
    "train_local_X, train_local_Y, store_train_local, train_local_dates = get_X_Y(dataset = train_local, \n",
    "                                                                             step_size = steps, \n",
    "                                                                             slide_window = 1,\n",
    "                                                                             days_to_forecast = forecast_days_override)\n",
    "\n",
    "print(\"Running the test local\")\n",
    "test_local_X, test_local_Y, store_test_local, test_local_dates = get_X_Y(dataset = test_local,\n",
    "                                                                         step_size = steps, \n",
    "                                                                         slide_window = 1,\n",
    "                                                                         days_to_forecast = forecast_days)\n",
    "\n",
    "print(\"Running the test_prod\")\n",
    "test_prod_X, test_prod_Y, store_test_prod, test_prod_dates = get_X_Y(dataset = summarized_test_prod, \n",
    "                                                                        step_size = steps, \n",
    "                                                                        slide_window = 1,\n",
    "                                                                        days_to_forecast = forecast_days)\n",
    "print(\"Completed forming the train_local, test_local, test_prod\")"
   ]
  },
  {
   "cell_type": "markdown",
   "metadata": {},
   "source": [
    "# Read the hour level aggregated  numpy file if needed"
   ]
  },
  {
   "cell_type": "code",
   "execution_count": 21,
   "metadata": {
    "collapsed": true
   },
   "outputs": [],
   "source": [
    "# Forecast 100 days and look back 60 days\n",
    "\n",
    "# np.save('train_local_X', train_local_X)\n",
    "# np.save('train_local_Y', train_local_Y)\n",
    "# np.save('store_train_local', store_train_local)\n",
    "# np.save('train_local_dates', train_local_dates)\n",
    "\n",
    "# np.save('test_local_X', test_local_X)\n",
    "# np.save('test_local_Y', test_local_Y)\n",
    "# np.save('store_test_local', store_test_local)\n",
    "# np.save('test_local_dates', test_local_dates)\n",
    "\n",
    "# np.save('test_prod_X', test_prod_X)\n",
    "# np.save('test_prod_Y', test_prod_Y)\n",
    "# np.save('store_test_prod', store_test_prod)\n",
    "# np.save('test_prod_dates', test_prod_dates)\n",
    "\n",
    "##########################\n",
    "#Reading the file\n",
    "# ########################\n",
    "# train_local_X = np.load('train_local_X.npy')\n",
    "# train_local_Y = np.load('train_local_Y.npy')\n",
    "# store_train_local = np.load('store_train_local.npy')\n",
    "# train_local_dates = np.load('train_local_dates.npy')\n",
    "\n",
    "# test_local_X = np.load('test_local_X.npy')\n",
    "# test_local_Y = np.load('test_local_Y.npy')\n",
    "# store_test_local = np.load('store_test_local.npy')\n",
    "# test_local_dates = np.load('test_local_dates.npy')\n",
    "\n",
    "# test_prod_X = np.load('test_prod_X.npy')\n",
    "# test_prod_Y = np.load('test_prod_Y.npy')\n",
    "# store_test_prod = np.load('store_test_prod.npy')\n",
    "# test_prod_dates = np.load('test_prod_dates.npy')"
   ]
  },
  {
   "cell_type": "code",
   "execution_count": 22,
   "metadata": {},
   "outputs": [
    {
     "name": "stdout",
     "output_type": "stream",
     "text": [
      "Local train X shape (91600, 60, 3)\n",
      "Local train Y shape (91600, 1)\n",
      "Shape of the store ids (91600,)\n",
      "\n",
      "Local test X shape (18000, 60, 3)\n",
      "Local test Y shape (18000, 1)\n",
      "Shape of the store ids (18000,)\n",
      "\n",
      "prod Test  X shape (20000, 60, 3)\n",
      "Shape of the store ids (20000,)\n"
     ]
    }
   ],
   "source": [
    "# Checking the shapes\n",
    "print(\"Local train X shape\",train_local_X.shape)\n",
    "print(\"Local train Y shape\",train_local_Y.shape)\n",
    "print(\"Shape of the store ids\",np.array(store_train_local).shape)\n",
    "print(\"\")\n",
    "print(\"Local test X shape\",test_local_X.shape)\n",
    "print(\"Local test Y shape\",test_local_Y.shape)\n",
    "print(\"Shape of the store ids\",np.array(store_test_local).shape)\n",
    "#print(\"\")\n",
    "#print(\"Prod train X shape\",train_prod_X.shape)\n",
    "#print(\"Prod train Y shape\",train_prod_Y.shape)\n",
    "#print(\"Shape of the store ids\",np.array(store_train_prod).shape)\n",
    "print(\"\")\n",
    "print(\"prod Test  X shape\", test_prod_X.shape)\n",
    "print(\"Shape of the store ids\",np.array(store_test_prod).shape)\n"
   ]
  },
  {
   "cell_type": "markdown",
   "metadata": {},
   "source": [
    "# RNN"
   ]
  },
  {
   "cell_type": "markdown",
   "metadata": {},
   "source": [
    "# Building the RNN model - Using local train dataset"
   ]
  },
  {
   "cell_type": "code",
   "execution_count": 25,
   "metadata": {},
   "outputs": [
    {
     "name": "stdout",
     "output_type": "stream",
     "text": [
      "_________________________________________________________________\n",
      "Layer (type)                 Output Shape              Param #   \n",
      "=================================================================\n",
      "lstm_3 (LSTM)                (None, 60, 5)             180       \n",
      "_________________________________________________________________\n",
      "dropout_3 (Dropout)          (None, 60, 5)             0         \n",
      "_________________________________________________________________\n",
      "lstm_4 (LSTM)                (None, 5)                 220       \n",
      "_________________________________________________________________\n",
      "dropout_4 (Dropout)          (None, 5)                 0         \n",
      "_________________________________________________________________\n",
      "dense_2 (Dense)              (None, 1)                 6         \n",
      "=================================================================\n",
      "Total params: 406\n",
      "Trainable params: 406\n",
      "Non-trainable params: 0\n",
      "_________________________________________________________________\n"
     ]
    }
   ],
   "source": [
    "\n",
    "regressor = Sequential()\n",
    "regressor.add(LSTM(units = 5, return_sequences = True, input_shape = (train_local_X.shape[1], train_local_X.shape[2]), activation = 'relu'))\n",
    "regressor.add(Dropout(rate = 0.2))\n",
    "\n",
    "'''\n",
    "regressor.add(LSTM(units = 5, return_sequences = True,  activation = 'relu'))\n",
    "regressor.add(Dropout(rate = 0.2))\n",
    "regressor.add(LSTM(units = 5, return_sequences = True,  activation = 'relu'))\n",
    "regressor.add(Dropout(rate = 0.2))\n",
    "'''\n",
    "regressor.add(LSTM(units = 5, return_sequences = False, activation = 'relu'))\n",
    "regressor.add(Dropout(rate = 0.2))\n",
    "\n",
    "regressor.add(Dense(units = train_local_Y.shape[1], activation = 'linear'))\n",
    "regressor.summary()\n",
    "\n",
    "regressor.compile(optimizer = 'adam', loss = 'mean_squared_error', metrics = ['mse'])\n",
    "\n",
    "#checkpointer\n",
    "checkpointer = ModelCheckpoint(filepath = \"best_weights.hdf5\", \n",
    "                               verbose = 1, \n",
    "                               save_best_only = True)\n",
    "\n",
    "#Early stopper\n",
    "stopper = EarlyStopping(monitor = 'val_mean_squared_error',\n",
    "                       patience = 15, \n",
    "                       verbose = 0, mode = 'auto')\n",
    "\n",
    "model = regressor.fit(train_local_X, train_local_Y, epochs = 200, \n",
    "                      #batch_size = int(train_local_X.shape[0]/100), \n",
    "                      batch_size = 1024, \n",
    "                      validation_data = (test_local_X, test_local_Y),\n",
    "                      callbacks = [stopper, checkpointer],\n",
    "                      shuffle = False)\n"
   ]
  },
  {
   "cell_type": "code",
   "execution_count": 121,
   "metadata": {},
   "outputs": [
    {
     "name": "stdout",
     "output_type": "stream",
     "text": [
      "0.000122215252711\n"
     ]
    },
    {
     "data": {
      "image/png": "[encoded data removed]",
      "text/plain": [
       "<matplotlib.figure.Figure at 0xb8f3505da0>"
      ]
     },
     "metadata": {},
     "output_type": "display_data"
    }
   ],
   "source": [
    "#Plotting Loss and accuracy\n",
    "print(np.array(model.history['val_mean_squared_error']).min())\n",
    "\n",
    "plt.plot(model.history['mean_squared_error'], label = \"Train MSE\")\n",
    "plt.plot(model.history['val_mean_squared_error'], label = \"Valid MSE\")\n",
    "plt.xlabel(\"Epochs\")\n",
    "plt.ylabel(\"MSE\")\n",
    "plt.legend()\n",
    "plt.show()"
   ]
  },
  {
   "cell_type": "markdown",
   "metadata": {},
   "source": [
    "# Predicting on the Train set and plotting to compare"
   ]
  },
  {
   "cell_type": "code",
   "execution_count": 26,
   "metadata": {},
   "outputs": [
    {
     "data": {
      "image/png": "[encoded data removed]",
      "text/plain": [
       "<matplotlib.figure.Figure at 0xef2e14b358>"
      ]
     },
     "metadata": {},
     "output_type": "display_data"
    },
    {
     "name": "stdout",
     "output_type": "stream",
     "text": [
      "The RMSE of train set is\n"
     ]
    },
    {
     "data": {
      "text/plain": [
       "126003.43790948857"
      ]
     },
     "execution_count": 26,
     "metadata": {},
     "output_type": "execute_result"
    }
   ],
   "source": [
    "regressor.load_weights(\"best_weights.hdf5\")\n",
    "\n",
    "#Before inverse scaling the validation prediction\n",
    "#print(\"Prediction before inverse scaling\")\n",
    "train_local_prediction = regressor.predict(train_local_X)\n",
    "#print(local_prediction)\n",
    "\n",
    "#After inverse scaling the validation prediction\n",
    "#print(\"Prediction after inverse scaling\")\n",
    "train_local_inverse_scaled_prediction = dep_scaler.inverse_transform(train_local_prediction)\n",
    "#print(local_inverse_scaled_prediction)\n",
    "\n",
    "#local_inverse_scaled_prediction.min(), local_inverse_scaled_prediction.max()\n",
    "\n",
    "#Reverse transform the actual local validation amount for plotting\n",
    "train_local_Y_inverse_scaled = dep_scaler.inverse_transform(train_local_Y)\n",
    "\n",
    "train_pred_DF = pd.DataFrame({'store_id': store_train_local, \n",
    "                              'total_sales': train_local_inverse_scaled_prediction[:,0]})\n",
    "train_actual_DF = pd.DataFrame({'store_id': store_train_local, \n",
    "                                   'total_sales': train_local_Y_inverse_scaled[:,0]})\n",
    "\n",
    "train_groupby_pred_DF = train_pred_DF.groupby(['store_id']).agg({\"total_sales\":\"sum\"}).reset_index()\n",
    "train_groupby_actual_DF = train_actual_DF.groupby(['store_id']).agg({\"total_sales\":\"sum\"}).reset_index()\n",
    "\n",
    "\n",
    "#print(validation_groupby_pred_DF.head())\n",
    "#print(validation_groupby_actual_DF.head())\n",
    "\n",
    "#Plotting the results\n",
    "plt.figure(figsize = (20, 8))\n",
    "plt.plot(train_groupby_actual_DF['store_id'], train_groupby_actual_DF['total_sales'],\n",
    "        label = \"Actual\")\n",
    "plt.plot(train_groupby_pred_DF['store_id'], train_groupby_pred_DF['total_sales'],\n",
    "        label = \"Predicted\")\n",
    "plt.legend()\n",
    "plt.show()\n",
    "\n",
    "print(\"The RMSE of train set is\")\n",
    "np.sqrt(sklearn.metrics.mean_squared_error(train_groupby_pred_DF.total_sales, train_groupby_actual_DF.total_sales) )"
   ]
  },
  {
   "cell_type": "markdown",
   "metadata": {},
   "source": [
    "# Predicting on the validation set and plotting to compare\n",
    "    # Unscaled"
   ]
  },
  {
   "cell_type": "code",
   "execution_count": 27,
   "metadata": {
    "collapsed": true
   },
   "outputs": [],
   "source": [
    "# regressor.load_weights(\"best_weights.hdf5\")\n",
    "\n",
    "# #Before inverse scaling the validation prediction\n",
    "# #print(\"Prediction before inverse scaling\")\n",
    "# local_prediction = regressor.predict(test_local_X)\n",
    "# print(local_prediction)\n",
    "\n",
    "# test_local_Y_pred_DF_unscaled = pd.DataFrame({'store_id': store_test_local, \n",
    "#                                    'total_sales': local_prediction[:,0]})\n",
    "# test_local_Y_actual_DF_unscaled = pd.DataFrame({'store_id': store_test_local, \n",
    "#                                    'total_sales': test_local_Y[:,0]})\n",
    "\n",
    "# test_local_Y_groupby_pred_DF_unscaled = test_local_Y_pred_DF_unscaled.groupby(['store_id']).agg({\"total_sales\":\"sum\"}).reset_index()\n",
    "# test_local_Y_groupby_actual_DF_unscaled = test_local_Y_actual_DF_unscaled.groupby(['store_id']).agg({\"total_sales\":\"sum\"}).reset_index()\n",
    "\n",
    "# #Plotting the results\n",
    "# plt.figure(figsize = (20, 8))\n",
    "# plt.plot(test_local_Y_groupby_actual_DF_unscaled['store_id'], test_local_Y_groupby_actual_DF_unscaled['total_sales'],\n",
    "#         label = \"Actual\")\n",
    "# #plt.show()\n",
    "\n",
    "# plt.plot(test_local_Y_groupby_pred_DF_unscaled['store_id'], test_local_Y_groupby_pred_DF_unscaled['total_sales'],\n",
    "#         label = \"Predicted\")\n",
    "# plt.legend()\n",
    "# plt.show()\n",
    "\n",
    "# print(\"The RMSE of validation set is\")\n",
    "# np.sqrt(sklearn.metrics.mean_squared_error(test_local_Y_groupby_pred_DF_unscaled.total_sales, test_local_Y_groupby_actual_DF_unscaled.total_sales) )\n"
   ]
  },
  {
   "cell_type": "markdown",
   "metadata": {},
   "source": [
    "    \n",
    "    # Scaled"
   ]
  },
  {
   "cell_type": "code",
   "execution_count": 28,
   "metadata": {},
   "outputs": [
    {
     "data": {
      "image/png": "[encoded data removed]",
      "text/plain": [
       "<matplotlib.figure.Figure at 0xef2e22f400>"
      ]
     },
     "metadata": {},
     "output_type": "display_data"
    },
    {
     "name": "stdout",
     "output_type": "stream",
     "text": [
      "The RMSE of validation set is\n"
     ]
    },
    {
     "data": {
      "text/plain": [
       "42558.781258846058"
      ]
     },
     "execution_count": 28,
     "metadata": {},
     "output_type": "execute_result"
    }
   ],
   "source": [
    "regressor.load_weights(\"best_weights.hdf5\")\n",
    "\n",
    "#Before inverse scaling the validation prediction\n",
    "#print(\"Prediction before inverse scaling\")\n",
    "local_prediction = regressor.predict(test_local_X)\n",
    "\n",
    "#After inverse scaling the validation prediction\n",
    "#print(\"Prediction after inverse scaling\")\n",
    "local_inverse_scaled_prediction = dep_scaler.inverse_transform(local_prediction)\n",
    "#print(local_inverse_scaled_prediction)\n",
    "\n",
    "#local_inverse_scaled_prediction.min(), local_inverse_scaled_prediction.max()\n",
    "\n",
    "#Reverse transform the actual local validation amount for plotting\n",
    "test_local_Y_inverse_scaled = dep_scaler.inverse_transform(test_local_Y)\n",
    "\n",
    "test_local_Y_pred_DF = pd.DataFrame({'store_id': store_test_local, \n",
    "                                   'total_sales': local_inverse_scaled_prediction[:,0]})\n",
    "test_local_Y_actual_DF = pd.DataFrame({'store_id': store_test_local, \n",
    "                                   'total_sales': test_local_Y_inverse_scaled[:,0]})\n",
    "\n",
    "test_local_Y_groupby_pred_DF = test_local_Y_pred_DF.groupby(['store_id']).agg({\"total_sales\":\"sum\"}).reset_index()\n",
    "test_local_Y_groupby_actual_DF = test_local_Y_actual_DF.groupby(['store_id']).agg({\"total_sales\":\"sum\"}).reset_index()\n",
    "\n",
    "#print(validation_groupby_pred_DF.head())\n",
    "#print(validation_groupby_actual_DF.head())\n",
    "\n",
    "#Plotting the results\n",
    "plt.figure(figsize = (20, 8))\n",
    "plt.plot(test_local_Y_groupby_actual_DF['store_id'], test_local_Y_groupby_actual_DF['total_sales'],\n",
    "        label = \"Actual\")\n",
    "#plt.show()\n",
    "\n",
    "plt.plot(test_local_Y_groupby_pred_DF['store_id'], test_local_Y_groupby_pred_DF['total_sales'],\n",
    "        label = \"Predicted\")\n",
    "plt.legend()\n",
    "plt.show()\n",
    "\n",
    "\n",
    "print(\"The RMSE of validation set is\")\n",
    "np.sqrt(sklearn.metrics.mean_squared_error(test_local_Y_groupby_pred_DF.total_sales, test_local_Y_groupby_actual_DF.total_sales) )\n"
   ]
  },
  {
   "cell_type": "markdown",
   "metadata": {},
   "source": [
    "# Predicting on the Test prod"
   ]
  },
  {
   "cell_type": "code",
   "execution_count": 29,
   "metadata": {},
   "outputs": [
    {
     "data": {
      "image/png": "[encoded data removed]",
      "text/plain": [
       "<matplotlib.figure.Figure at 0xef46dc2ac8>"
      ]
     },
     "metadata": {},
     "output_type": "display_data"
    },
    {
     "name": "stdout",
     "output_type": "stream",
     "text": [
      "The RMSE of validation set is\n"
     ]
    }
   ],
   "source": [
    "regressor.load_weights(\"best_weights.hdf5\")\n",
    "\n",
    "#Before inverse scaling the validation prediction\n",
    "#print(\"Prediction before inverse scaling\")\n",
    "\n",
    "\n",
    "prod_prediction = regressor.predict(test_prod_X)\n",
    "\n",
    "#After inverse scaling the validation prediction\n",
    "#print(\"Prediction after inverse scaling\")\n",
    "prod_inverse_scaled_prediction = dep_scaler.inverse_transform(prod_prediction)\n",
    "#print(prod_prediction)\n",
    "#print(prod_inverse_scaled_prediction)\n",
    "\n",
    "#local_inverse_scaled_prediction.min(), local_inverse_scaled_prediction.max()\n",
    "\n",
    "test_prod_Y_pred_DF = pd.DataFrame({'store_id': store_test_prod, \n",
    "                                   'total_sales': prod_inverse_scaled_prediction[:,0]})\n",
    "\n",
    "test_prod_Y_groupby_pred_DF = test_prod_Y_pred_DF.groupby(['store_id']).agg({\"total_sales\":\"sum\"}).reset_index()\n",
    "\n",
    "plt.figure(figsize = (20, 8))\n",
    "plt.plot(test_prod_Y_groupby_pred_DF['store_id'], test_prod_Y_groupby_pred_DF['total_sales'],\n",
    "        label = \"Predicted\")\n",
    "plt.legend()\n",
    "plt.show()\n",
    "\n",
    "\n",
    "print(\"The RMSE of validation set is\")\n",
    "#np.sqrt(sklearn.metrics.mean_squared_error(test_local_Y_groupby_pred_DF.total_sales, test_local_Y_groupby_actual_DF.total_sales) )\n"
   ]
  },
  {
   "cell_type": "code",
   "execution_count": 30,
   "metadata": {},
   "outputs": [
    {
     "name": "stdout",
     "output_type": "stream",
     "text": [
      "   store_id   total_sales\n",
      "0         0  59809.933594\n",
      "1         1  32326.906250\n",
      "2         2  20996.865234\n",
      "3         3  20675.775391\n",
      "4         4  18081.351562\n"
     ]
    }
   ],
   "source": [
    "print(test_prod_Y_groupby_pred_DF.head())\n",
    "test_prod_Y_groupby_pred_DF.to_csv('sub_27.csv', index = False)"
   ]
  },
  {
   "cell_type": "markdown",
   "metadata": {},
   "source": [
    "##########################################\n",
    "# Trying the each day prediction for th validation set"
   ]
  },
  {
   "cell_type": "markdown",
   "metadata": {},
   "source": [
    "# New method"
   ]
  },
  {
   "cell_type": "code",
   "execution_count": 27,
   "metadata": {
    "collapsed": true
   },
   "outputs": [],
   "source": [
    "# #each_test_local_prediction = pd.DataFrame()\n",
    "# uniq_store = np.unique(test_local.store_id)\n",
    "# #print(uniq_store)\n",
    "# for store in uniq_store[0:1]:\n",
    "#     temp = test_local.loc[test_local.store_id == store,].reset_index(drop = True)\n",
    "    \n",
    "#     preds_moving = []\n",
    "#     actual_moving = []\n",
    "#     #print(temp.head(30))\n",
    "#     i = 0\n",
    "    \n",
    "#     print(\"Shape\", temp.shape)\n",
    "#     temp_v1 = temp.loc[i: (i + steps -1), ['amount']]\n",
    "    \n",
    "#     print(\"Shape\", temp_v1.shape)\n",
    "#     temp_v1_np = temp_v1.values\n",
    "    \n",
    "#     to_pred = np.array([temp_v1_np])\n",
    "#     #print(temp.loc[i : (i + steps+10), ['amount']])\n",
    "#     #print(to_pred)\n",
    "    \n",
    "#     days_to_forecast = 90\n",
    "#     for i in range(days_to_forecast):\n",
    "#         #print(\"to_predict\")\n",
    "#         actual_moving.append(temp.loc[(i + steps), 'amount'])\n",
    "        \n",
    "#         preds_one_step = regressor.predict(to_pred)\n",
    "#         #print(preds_one_step)\n",
    "#         preds_moving.append(preds_one_step[0,0])\n",
    "#         preds_one_step = preds_one_step.reshape(1,1,1)\n",
    "        \n",
    "#         #print(to_pred.shape, preds_one_step.shape)\n",
    "#         to_pred = np.concatenate((to_pred[:,1:,:], \n",
    "#                                   preds_one_step), axis=1)\n",
    "\n",
    "# #print(actual_moving)\n",
    "# #print(preds_moving)"
   ]
  },
  {
   "cell_type": "code",
   "execution_count": 28,
   "metadata": {
    "collapsed": true
   },
   "outputs": [],
   "source": [
    "# #print(preds_moving)\n",
    "\n",
    "# plt.plot(actual_moving, label = 'Actual')\n",
    "\n",
    "# plt.plot(preds_moving, label = 'Pred')\n",
    "# plt.legend()\n",
    "# plt.show()\n",
    "\n"
   ]
  },
  {
   "cell_type": "markdown",
   "metadata": {},
   "source": [
    "# My method"
   ]
  },
  {
   "cell_type": "code",
   "execution_count": 29,
   "metadata": {
    "collapsed": true
   },
   "outputs": [],
   "source": [
    "# each_test_local_prediction = pd.DataFrame()\n",
    "# uniq_store = np.unique(test_local.store_id)\n",
    "# #print(uniq_store)\n",
    "# for store in uniq_store[180:181]:\n",
    "#     temp = test_local.loc[test_local.store_id == store,].reset_index(drop = True)\n",
    "#     print(store)\n",
    "#     #print(temp.shape)\n",
    "#     #for i in range(temp.shape[0] - steps):\n",
    "#     #    to_get_x = print(temp.iloc[i:i+steps,])\n",
    "#     #temp.[0:1]\n",
    "    \n",
    "#     for i in range(temp.shape[0] - steps):\n",
    "#     #for i in range(0,6):\n",
    "#         #print(i, steps)\n",
    "#         #print(temp.iloc[i: (i + 1 + steps),])\n",
    "#         #temp_v1 = temp.loc[i: (i + steps -1), ['amount', 'days_of_week', 'holyday']]\n",
    "#         temp_v1 = temp.loc[i: (i + steps -1), ['amount']]\n",
    "#         #print(temp_v1)\n",
    "#         print(\"Shape\", temp_v1.shape)\n",
    "#         temp_v1_np = temp_v1.values\n",
    "#         #print(temp_v1_np)\n",
    "#         to_pred = np.array([temp_v1_np])\n",
    "#         #print(to_pred)        \n",
    "#         #print(to_pred.shape)        \n",
    "#         prod_prediction = regressor.predict(to_pred)\n",
    "#         #print(\"\\n prediction is\", prod_prediction)\n",
    "#         temp.amount[(i + steps)] = prod_prediction\n",
    "#     each_test_local_prediction = each_test_local_prediction.append(temp)\n",
    "#         #print(temp.iloc[i : (i + 1 + steps),])\n",
    "#         #print(\"\")\n",
    "# print(each_test_local_prediction.shape)"
   ]
  },
  {
   "cell_type": "code",
   "execution_count": 30,
   "metadata": {
    "collapsed": true
   },
   "outputs": [],
   "source": [
    "# plt.figure(figsize = (20, 8))\n",
    "    \n",
    "# for i in np.unique(each_test_local_prediction.store_id):\n",
    "#     a = each_test_local_prediction.loc[each_test_local_prediction.store_id == i,].reset_index(drop = True)\n",
    "#     plt.plot(a.index, dep_scaler.inverse_transform(a.loc[:,['amount']]),\n",
    "#             label = i)\n",
    "# plt.legend()    \n",
    "# plt.show()\n",
    "\n",
    "# plt.figure(figsize = (20, 8))\n",
    "    \n",
    "# for i in np.unique(each_test_local_prediction.store_id):\n",
    "#     a = each_test_local_prediction.loc[each_test_local_prediction.store_id == i,].reset_index(drop = True)\n",
    "#     plt.plot(a.index, a.loc[:,['amount']],\n",
    "#             label = i)\n",
    "# plt.legend()    \n",
    "# plt.show()"
   ]
  },
  {
   "cell_type": "markdown",
   "metadata": {},
   "source": [
    "##########################################"
   ]
  },
  {
   "cell_type": "markdown",
   "metadata": {},
   "source": [
    "# Predicting on the production test set"
   ]
  },
  {
   "cell_type": "code",
   "execution_count": 31,
   "metadata": {
    "collapsed": true
   },
   "outputs": [],
   "source": [
    "# #Making all the amount after March 31st 2018 as 0 which is to be predicted\n",
    "# summarized_test_prod.loc[summarized_test_prod['date'] > datetime(2018,3,31),['amount']] = None\n",
    "# #print(summarized_test_prod.head())\n",
    "# #print(summarized_test_prod.tail())\n",
    "\n",
    "# print(\"For sanity check all the amount values after 31st March should be 0\")\n",
    "# print(summarized_test_prod.loc[summarized_test_prod['date'] <= datetime(2018,3,31),['amount']].describe())\n",
    "# print(summarized_test_prod.loc[summarized_test_prod['date'] > datetime(2018,3,31),['amount']].describe())\n",
    "\n",
    "# summarized_test_prod_final = summarized_test_prod.copy()\n",
    "# summarized_test_prod_final = summarized_test_prod_final.sort_values(['store_id', 'date']).reset_index(drop = True)"
   ]
  },
  {
   "cell_type": "code",
   "execution_count": 32,
   "metadata": {
    "collapsed": true
   },
   "outputs": [],
   "source": [
    "# final_prod_prediction = pd.DataFrame()\n",
    "# uniq_store = np.unique(summarized_test_prod_final.store_id)\n",
    "# #print(uniq_store)\n",
    "# for store in uniq_store[180:200]:\n",
    "#     temp = summarized_test_prod_final.loc[summarized_test_prod_final.store_id == store,].reset_index(drop = True)\n",
    "#     print(store)\n",
    "#     #print(temp.shape)\n",
    "#     #for i in range(temp.shape[0] - steps):\n",
    "#     #    to_get_x = print(temp.iloc[i:i+steps,])\n",
    "#     #temp.[0:1]\n",
    "    \n",
    "#     for i in range(temp.shape[0] - steps):\n",
    "#     #for i in range(0,6):\n",
    "#         #print(i, steps)\n",
    "#         #print(temp.iloc[i: (i + 1 + steps),])\n",
    "#         #temp_v1 = temp.loc[i: (i + steps -1), ['amount', 'days_of_week', 'holyday']]\n",
    "#         temp_v1 = temp.loc[i: (i + steps -1), ['amount']]\n",
    "#         #print(temp_v1)\n",
    "#         #print(\"Shape\", temp_v1.shape)\n",
    "#         temp_v1_np = temp_v1.values\n",
    "#         #print(temp_v1_np)\n",
    "#         to_pred = np.array([temp_v1_np])\n",
    "#         #print(to_pred)        \n",
    "#         #print(to_pred.shape)        \n",
    "#         prod_prediction = regressor.predict(to_pred)\n",
    "#         #print(\"\\n prediction is\", prod_prediction)\n",
    "#         temp.amount[(i + steps)] = prod_prediction\n",
    "#     final_prod_prediction = final_prod_prediction.append(temp)\n",
    "#     print(final_prod_prediction.shape)\n",
    "#         #print(temp.iloc[i : (i + 1 + steps),])\n",
    "#         #print(\"\")"
   ]
  },
  {
   "cell_type": "code",
   "execution_count": 33,
   "metadata": {
    "collapsed": true
   },
   "outputs": [],
   "source": [
    "# plt.figure(figsize = (20, 8))\n",
    "    \n",
    "# for i in np.unique(final_prod_prediction.store_id):\n",
    "#     a = final_prod_prediction.loc[final_prod_prediction.store_id == i,].reset_index(drop = True)\n",
    "#     plt.plot(a.index, dep_scaler.inverse_transform(a.loc[:,['amount']]),\n",
    "#             label = i)\n",
    "# plt.legend()    \n",
    "# plt.show()\n",
    "\n",
    "# plt.figure(figsize = (20, 8))\n",
    "    \n",
    "# for i in np.unique(final_prod_prediction.store_id):\n",
    "#     a = final_prod_prediction.loc[final_prod_prediction.store_id == i,].reset_index(drop = True)\n",
    "#     plt.plot(a.index, a.loc[:,['amount']],\n",
    "#             label = i)\n",
    "# plt.legend()    \n",
    "# plt.show()"
   ]
  },
  {
   "cell_type": "code",
   "execution_count": 34,
   "metadata": {
    "collapsed": true
   },
   "outputs": [],
   "source": [
    "# # Rough work\n",
    "# print(np.unique(final_prod_prediction.store_id))\n",
    "# print(final_prod_prediction.head())\n",
    "# test_prod_prediction = final_prod_prediction.loc[final_prod_prediction['date']> datetime(2018,3,31), ]\n",
    "# print(test_prod_prediction.head())\n",
    "# print(test_prod_prediction.tail())\n",
    "# inverse_test_prod_prediction = dep_scaler.inverse_transform(test_prod_prediction.loc[:,['amount']])\n",
    "\n",
    "# sub_DF = pd.DataFrame({'store_id': test_prod_prediction['store_id'], \n",
    "#                        'total_sales': inverse_test_prod_prediction[:,0]})\n",
    "\n",
    "# sub_grouped_DF = sub_DF.groupby(['store_id']).agg({'total_sales':'sum'}).reset_index()\n",
    "\n",
    "# plt.figure(figsize = (20, 8))\n",
    "# plt.bar(sub_grouped_DF['store_id'], sub_grouped_DF['total_sales'], label = 'Predicted')\n",
    "# #plt.plot(sub_DF['store_id'], np.absolute(sub_DF['total_sales']), label = 'abs Predicted')\n",
    "# plt.legend()\n",
    "# plt.show()"
   ]
  },
  {
   "cell_type": "code",
   "execution_count": 35,
   "metadata": {
    "collapsed": true
   },
   "outputs": [],
   "source": [
    "# print(final_prod_prediction.head())\n",
    "# final_prod_prediction.loc[final_prod_prediction['date']> datetime(2018,3,31), ].head()\n"
   ]
  },
  {
   "cell_type": "code",
   "execution_count": 36,
   "metadata": {
    "collapsed": true
   },
   "outputs": [],
   "source": [
    "# #prod_prediction = regressor.predict(test_prod_X)\n",
    "# prod_prediction     = final_prod_prediction.loc[final_prod_prediction['date']> datetime(2018,3,31), ['amount']]\n",
    "# test_prod_store_ids = final_prod_prediction.loc[final_prod_prediction['date']> datetime(2018,3,31), ['store_id']]\n",
    "# print(\"Prediction before inverse scaling\")\n",
    "# #print(prod_prediction.head())\n",
    "# #print(prod_prediction.tail())\n",
    "\n",
    "# prod_inverse_scaled_prediction = dep_scaler.inverse_transform(prod_prediction)\n",
    "# print(prod_inverse_scaled_prediction.shape, test_prod_store_ids.shape)\n",
    "# #print(\"Prediction after inverse scaling\")\n",
    "# #print(len(prod_inverse_scaled_prediction))\n",
    "# #print(final_prod_prediction.iloc[243:303,])\n",
    "# #print(prod_inverse_scaled_prediction[-60: len(prod_inverse_scaled_prediction)])\n"
   ]
  },
  {
   "cell_type": "code",
   "execution_count": 37,
   "metadata": {
    "collapsed": true
   },
   "outputs": [],
   "source": [
    "# prod_inverse_scaled_prediction[0:6]"
   ]
  },
  {
   "cell_type": "code",
   "execution_count": 38,
   "metadata": {
    "collapsed": true
   },
   "outputs": [],
   "source": [
    "\n",
    "# sub_DF = pd.DataFrame({'store_id': test_prod_store_ids, \n",
    "#                        'total_sales': prod_inverse_scaled_prediction[:,0]})\n",
    "\n",
    "# sub_grouped_DF = sub_DF.groupby(['store_id']).agg({'total_sales':'sum'}).reset_index()\n",
    "\n",
    "# plt.figure(figsize = (20, 8))\n",
    "# plt.bar(sub_grouped_DF['store_id'], sub_grouped_DF['total_sales'], label = 'Predicted')\n",
    "# #plt.plot(sub_DF['store_id'], np.absolute(sub_DF['total_sales']), label = 'abs Predicted')\n",
    "# plt.legend()\n",
    "# plt.show()\n",
    "\n"
   ]
  },
  {
   "cell_type": "code",
   "execution_count": 39,
   "metadata": {
    "collapsed": true
   },
   "outputs": [],
   "source": [
    "# print(sub_DF['total_sales'].describe())\n",
    "# print(np.absolute(sub_DF['total_sales']).describe())"
   ]
  },
  {
   "cell_type": "code",
   "execution_count": 40,
   "metadata": {
    "collapsed": true
   },
   "outputs": [],
   "source": [
    "# print(sub_DF.head())\n",
    "# sub_DF = sub_DF.groupby(['store_id']).agg({'total_sales':'sum'}).reset_index()\n",
    "# print(sub_DF.head())\n",
    "# sub_DF.to_csv('sub_22.csv', index = False)"
   ]
  }
 ],
 "metadata": {
  "kernelspec": {
   "display_name": "Python 3",
   "language": "python",
   "name": "python3"
  },
  "language_info": {
   "codemirror_mode": {
    "name": "ipython",
    "version": 3
   },
   "file_extension": ".py",
   "mimetype": "text/x-python",
   "name": "python",
   "nbconvert_exporter": "python",
   "pygments_lexer": "ipython3",
   "version": "3.6.3"
  }
 },
 "nbformat": 4,
 "nbformat_minor": 2
}
